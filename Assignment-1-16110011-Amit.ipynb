{
 "cells": [
  {
   "cell_type": "code",
   "execution_count": 2,
   "metadata": {},
   "outputs": [
    {
     "name": "stderr",
     "output_type": "stream",
     "text": [
      "C:\\Users\\hp\\Anaconda3\\lib\\site-packages\\bs4\\__init__.py:181: UserWarning: No parser was explicitly specified, so I'm using the best available HTML parser for this system (\"lxml\"). This usually isn't a problem, but if you run this code on another system, or in a different virtual environment, it may use a different parser and behave differently.\n",
      "\n",
      "The code that caused this warning is on line 193 of the file C:\\Users\\hp\\Anaconda3\\lib\\runpy.py. To get rid of this warning, change code that looks like this:\n",
      "\n",
      " BeautifulSoup(YOUR_MARKUP})\n",
      "\n",
      "to this:\n",
      "\n",
      " BeautifulSoup(YOUR_MARKUP, \"lxml\")\n",
      "\n",
      "  markup_type=markup_type))\n"
     ]
    },
    {
     "name": "stdout",
     "output_type": "stream",
     "text": [
      "Number of word types: 32710\n",
      "Number of tokens: 303178\n",
      "Type to Token ratio =  0.10789041421211301\n"
     ]
    }
   ],
   "source": [
    "# 16110011 Amit Kumar Singh Yadav| NLP Assignment 01 -  part-(a)\n",
    "\n",
    "import numpy as np\n",
    "from bs4 import BeautifulSoup as bsoup\n",
    "import pandas as pd\n",
    "import re\n",
    "from scipy.optimize import curve_fit\n",
    "import matplotlib.pyplot as plt\n",
    "\n",
    "document= pd.read_csv('tweets-dataset.csv')\n",
    "#on analysing the document i.e. tweet-data, found many sentence with @, #, \"\" etc. Hence, first removed them\n",
    "\n",
    "#function to clean tweet data \n",
    "def tweet_cleaner(tweet_text):\n",
    "    #first remove all links i.e having html\n",
    "    clean_text = bsoup(tweet_text, 'html').get_text()  \n",
    "    #now split them \n",
    "    words = clean_text.split()\n",
    "    # now removed words with # and @\n",
    "    clean_words = [wrd for wrd in words if '@' not in wrd and '#' not in wrd] \n",
    "    #rejoined clean words to make clean document\n",
    "    clean_document = ' '.join(clean_words)\n",
    "    #now still there can be words with digit like amit_1999 or other special characters\n",
    "    # so taking only alphabetic words\n",
    "    final_clean_document = re.sub('[^a-zA-Z]+', ' ', clean_document) \n",
    "    #now we just need to normalize document before sending\n",
    "    final_clean_document_r= final_clean_document.lower()\n",
    "    return( final_clean_document_r )\n",
    "\n",
    "clean_vector = np.vectorize(tweet_cleaner)\n",
    "\n",
    "document['clear_tweet'] = clean_vector(document['Sentence'])\n",
    "#document[:5] uncomment it to see the new clean data\n",
    "# made a function to split words from sentence\n",
    "def tweet_tokenize(s):\n",
    "    return tuple(s.split())\n",
    "\n",
    "tokens = []\n",
    "for i in range(len(document)):\n",
    "    tokens.extend( tweet_tokenize( document.iloc[i]['clear_tweet']) )\n",
    "\n",
    "sorted_tokens = sorted(tokens)\n",
    "word_types = list(set(tokens))\n",
    "print(\"Number of word types:\", len(word_types))\n",
    "print(\"Number of tokens:\", len(tokens))\n",
    "print(\"Type to Token ratio = \",(len(word_types)/len(tokens)))\n",
    "\n",
    "\n"
   ]
  },
  {
   "cell_type": "code",
   "execution_count": 101,
   "metadata": {},
   "outputs": [
    {
     "name": "stdout",
     "output_type": "stream",
     "text": [
      "1b: fl = [ 72.71693364]\n"
     ]
    },
    {
     "data": {
      "image/png": "[encoded data removed]",
      "text/plain": [
       "<matplotlib.figure.Figure at 0x22922a2ee48>"
      ]
     },
     "metadata": {},
     "output_type": "display_data"
    }
   ],
   "source": [
    "# 16110011 Amit Kumar Singh Yadav| NLP Assignment 01 -  part-(b) Zipf's law\n",
    "\n",
    "#define zipf's law\n",
    "def zipf_law(length, freq): \n",
    "    return freq/length\n",
    "\n",
    "no_of_token = {}\n",
    "for s in sorted_tokens:\n",
    "    if s in no_of_token:\n",
    "        no_of_token[s] += 1\n",
    "    else:\n",
    "        no_of_token[s] = 1\n",
    "\n",
    "sorted_no_of_token = list(no_of_token.items())\n",
    "sorted_no_of_token.sort(key=lambda x:x[1], reverse=True)\n",
    "\n",
    "length = [len(item[0]) for item in sorted_no_of_token]\n",
    "frequency = [item[1] for item in sorted_no_of_token]\n",
    "\n",
    "\n",
    "parameter, param_cov = curve_fit(zipf_law, length, frequency)\n",
    "print (\"1b: fl = \"+str(parameter))\n",
    "plt.scatter(frequency,length);\n",
    "plt.title(\"zipf's law for frequency and length\")\n",
    "plt.xlabel(\"n\")\n",
    "plt.ylabel(\"v\")\n",
    "plt.show();"
   ]
  },
  {
   "cell_type": "code",
   "execution_count": 103,
   "metadata": {},
   "outputs": [
    {
     "data": {
      "image/png": "[encoded data removed]",
      "text/plain": [
       "<matplotlib.figure.Figure at 0x22922a7ab00>"
      ]
     },
     "metadata": {},
     "output_type": "display_data"
    },
    {
     "name": "stdout",
     "output_type": "stream",
     "text": [
      "1b: m = 4.78 * f^0.164876021483\n"
     ]
    }
   ],
   "source": [
    "\n",
    "from nltk.corpus import wordnet\n",
    "#define zipf's law\n",
    "def zipf_law_mean(freq, k, power): \n",
    "    return k*(freq**power)\n",
    "selected_list=[sorted_no_of_token[1401],sorted_no_of_token[100],sorted_no_of_token[3000],sorted_no_of_token[3200],sorted_no_of_token[5100],sorted_no_of_token[5000],sorted_no_of_token[8901],sorted_no_of_token[1045],sorted_no_of_token[200],sorted_no_of_token[12709],sorted_no_of_token[13000],sorted_no_of_token[3400],sorted_no_of_token[1600],sorted_no_of_token[1500],sorted_no_of_token[7100]]\n",
    "frequencies=[]\n",
    "meanings=[]\n",
    "for i in selected_list:\n",
    "    frequencies.append(no_of_token[i[0]])\n",
    "    synonyms = []  \n",
    "    for synonym in wordnet.synsets(i[0]): \n",
    "        for lemma in synonym.lemmas(): \n",
    "            synonyms.append(lemma.name())\n",
    "    meanings.append(len(set(synonyms)))\n",
    "\n",
    "\n",
    "parameter, param_cov = curve_fit(zipf_law_mean, frequencies, meanings)    \n",
    "\n",
    "plt.scatter (frequencies,meanings)\n",
    "plt.title(\"zipf's law for frequency and meaninigs\")\n",
    "plt.xlabel(\"m\")\n",
    "plt.ylabel(\"f\")\n",
    "plt.show();\n",
    "print(\"1b: m = 4.78 * f^\"+str(parameter[1]))\n",
    "\n",
    "#meanings uncomment- to ensure that wordnet has atleast a meaning for that word. index taken accordingly\n"
   ]
  },
  {
   "cell_type": "code",
   "execution_count": 12,
   "metadata": {},
   "outputs": [
    {
     "data": {
      "image/png": "[encoded data removed]",
      "text/plain": [
       "<matplotlib.figure.Figure at 0x229163d6860>"
      ]
     },
     "metadata": {},
     "output_type": "display_data"
    },
    {
     "name": "stdout",
     "output_type": "stream",
     "text": [
      "1(c): beta = 0.617289191947, K= 13.6343570238\n"
     ]
    }
   ],
   "source": [
    "# 16110011 Amit Kumar Singh Yadav| NLP Assignment 01 -  part-(c) Heap's law\n",
    "#define the heap's law to be tested\n",
    "def heap_law(corpus, K, beta): \n",
    "    return (corpus**beta)*K\n",
    "\n",
    "tweet_corpus=[j for j in range(0,303178,1000)]\n",
    "vocabulary=[len(set(tokens[0:j])) for j in tweet_corpus]\n",
    "parameter, parameter_cov = curve_fit(heap_law, tweet_corpus, vocabulary) \n",
    "\n",
    "plt.scatter(tweet_corpus,vocabulary)\n",
    "plt.title(\"heap's law\")\n",
    "plt.ylabel(\"V\")\n",
    "plt.xlabel(\"N\")\n",
    "plt.show()\n",
    "\n",
    "print(\"1(c): beta = \"+str(parameter[1])+\", K= \"+str(parameter[0]))"
   ]
  }
 ],
 "metadata": {
  "kernelspec": {
   "display_name": "Python 3",
   "language": "python",
   "name": "python3"
  },
  "language_info": {
   "codemirror_mode": {
    "name": "ipython",
    "version": 3
   },
   "file_extension": ".py",
   "mimetype": "text/x-python",
   "name": "python",
   "nbconvert_exporter": "python",
   "pygments_lexer": "ipython3",
   "version": "3.6.3"
  }
 },
 "nbformat": 4,
 "nbformat_minor": 2
}
